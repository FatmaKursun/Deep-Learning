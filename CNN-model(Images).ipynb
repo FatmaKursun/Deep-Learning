{
 "cells": [
  {
   "cell_type": "code",
   "execution_count": 1,
   "metadata": {},
   "outputs": [
    {
     "name": "stderr",
     "output_type": "stream",
     "text": [
      "/Users/fatmakursun/anaconda3/lib/python3.6/site-packages/h5py/__init__.py:36: FutureWarning: Conversion of the second argument of issubdtype from `float` to `np.floating` is deprecated. In future, it will be treated as `np.float64 == np.dtype(float).type`.\n",
      "  from ._conv import register_converters as _register_converters\n",
      "Using TensorFlow backend.\n"
     ]
    }
   ],
   "source": [
    "# Importing the Keras libraries and packages\n",
    "from keras.models import Sequential\n",
    "from keras.layers import Convolution2D\n",
    "from keras.layers import MaxPooling2D\n",
    "from keras.layers import Flatten\n",
    "from keras.layers import Dense"
   ]
  },
  {
   "cell_type": "code",
   "execution_count": 2,
   "metadata": {},
   "outputs": [
    {
     "name": "stderr",
     "output_type": "stream",
     "text": [
      "/Users/fatmakursun/anaconda3/lib/python3.6/site-packages/ipykernel_launcher.py:5: UserWarning: Update your `Conv2D` call to the Keras 2 API: `Conv2D(32, (3, 3), input_shape=(64, 64, 3..., activation=\"relu\")`\n",
      "  \"\"\"\n",
      "/Users/fatmakursun/anaconda3/lib/python3.6/site-packages/ipykernel_launcher.py:11: UserWarning: Update your `Conv2D` call to the Keras 2 API: `Conv2D(32, (3, 3), activation=\"relu\")`\n",
      "  # This is added back by InteractiveShellApp.init_path()\n",
      "/Users/fatmakursun/anaconda3/lib/python3.6/site-packages/ipykernel_launcher.py:18: UserWarning: Update your `Dense` call to the Keras 2 API: `Dense(activation=\"relu\", units=128)`\n",
      "/Users/fatmakursun/anaconda3/lib/python3.6/site-packages/ipykernel_launcher.py:19: UserWarning: Update your `Dense` call to the Keras 2 API: `Dense(activation=\"sigmoid\", units=1)`\n"
     ]
    }
   ],
   "source": [
    "# Initialising the CNN\n",
    "classifier = Sequential()\n",
    "\n",
    "# Step 1 - Convolution\n",
    "classifier.add(Convolution2D(32, 3, 3, input_shape = (64, 64, 3), activation = 'relu'))\n",
    "\n",
    "# Step 2 - Pooling\n",
    "classifier.add(MaxPooling2D(pool_size = (2, 2)))\n",
    "\n",
    "# Adding a second convolutional layer\n",
    "classifier.add(Convolution2D(32, 3, 3, activation = 'relu'))\n",
    "classifier.add(MaxPooling2D(pool_size = (2, 2)))\n",
    "\n",
    "# Step 3 - Flattening\n",
    "classifier.add(Flatten())\n",
    "\n",
    "# Step 4 - Full connection\n",
    "classifier.add(Dense(output_dim = 128, activation = 'relu'))\n",
    "classifier.add(Dense(output_dim = 1, activation = 'sigmoid'))\n",
    "\n",
    "# Compiling the CNN\n",
    "classifier.compile(optimizer = 'adam', loss = 'binary_crossentropy', metrics = ['accuracy'])"
   ]
  },
  {
   "cell_type": "code",
   "execution_count": 3,
   "metadata": {},
   "outputs": [
    {
     "name": "stdout",
     "output_type": "stream",
     "text": [
      "Found 8000 images belonging to 2 classes.\n",
      "Found 2000 images belonging to 2 classes.\n"
     ]
    },
    {
     "name": "stderr",
     "output_type": "stream",
     "text": [
      "/Users/fatmakursun/anaconda3/lib/python3.6/site-packages/ipykernel_launcher.py:26: UserWarning: The semantics of the Keras 2 argument `steps_per_epoch` is not the same as the Keras 1 argument `samples_per_epoch`. `steps_per_epoch` is the number of batches to draw from the generator at each epoch. Basically steps_per_epoch = samples_per_epoch/batch_size. Similarly `nb_val_samples`->`validation_steps` and `val_samples`->`steps` arguments have changed. Update your method calls accordingly.\n",
      "/Users/fatmakursun/anaconda3/lib/python3.6/site-packages/ipykernel_launcher.py:26: UserWarning: Update your `fit_generator` call to the Keras 2 API: `fit_generator(<keras.pre..., validation_data=<keras.pre..., steps_per_epoch=250, epochs=25, validation_steps=2000)`\n"
     ]
    },
    {
     "name": "stdout",
     "output_type": "stream",
     "text": [
      "Epoch 1/25\n",
      "250/250 [==============================] - 357s 1s/step - loss: 0.6649 - acc: 0.5927 - val_loss: 0.6007 - val_acc: 0.6885\n",
      "Epoch 2/25\n",
      "250/250 [==============================] - 349s 1s/step - loss: 0.5785 - acc: 0.6981 - val_loss: 0.5856 - val_acc: 0.6938\n",
      "Epoch 3/25\n",
      "250/250 [==============================] - 357s 1s/step - loss: 0.5417 - acc: 0.7274 - val_loss: 0.5094 - val_acc: 0.7514\n",
      "Epoch 4/25\n",
      "250/250 [==============================] - 355s 1s/step - loss: 0.5100 - acc: 0.7535 - val_loss: 0.5108 - val_acc: 0.7671\n",
      "Epoch 5/25\n",
      "250/250 [==============================] - 365s 1s/step - loss: 0.4913 - acc: 0.7612 - val_loss: 0.4893 - val_acc: 0.7595\n",
      "Epoch 6/25\n",
      "250/250 [==============================] - 370s 1s/step - loss: 0.4771 - acc: 0.7688 - val_loss: 0.4654 - val_acc: 0.7826\n",
      "Epoch 7/25\n",
      "250/250 [==============================] - 373s 1s/step - loss: 0.4592 - acc: 0.7824 - val_loss: 0.4629 - val_acc: 0.7828\n",
      "Epoch 8/25\n",
      "250/250 [==============================] - 368s 1s/step - loss: 0.4432 - acc: 0.7950 - val_loss: 0.5210 - val_acc: 0.7531\n",
      "Epoch 9/25\n",
      "250/250 [==============================] - 351s 1s/step - loss: 0.4274 - acc: 0.7978 - val_loss: 0.4606 - val_acc: 0.7877\n",
      "Epoch 10/25\n",
      "250/250 [==============================] - 354s 1s/step - loss: 0.4224 - acc: 0.8036 - val_loss: 0.4477 - val_acc: 0.7924\n",
      "Epoch 11/25\n",
      "250/250 [==============================] - 35627s 143s/step - loss: 0.4106 - acc: 0.8084 - val_loss: 0.4647 - val_acc: 0.7836\n",
      "Epoch 12/25\n",
      "250/250 [==============================] - 18617s 74s/step - loss: 0.3928 - acc: 0.8228 - val_loss: 0.4880 - val_acc: 0.7913\n",
      "Epoch 13/25\n",
      "250/250 [==============================] - 263s 1s/step - loss: 0.3793 - acc: 0.8256 - val_loss: 0.4802 - val_acc: 0.7902\n",
      "Epoch 14/25\n",
      "250/250 [==============================] - 283s 1s/step - loss: 0.3795 - acc: 0.8293 - val_loss: 0.4656 - val_acc: 0.7921\n",
      "Epoch 15/25\n",
      "250/250 [==============================] - 316s 1s/step - loss: 0.3675 - acc: 0.8309 - val_loss: 0.4446 - val_acc: 0.8115\n",
      "Epoch 16/25\n",
      "250/250 [==============================] - 386s 2s/step - loss: 0.3559 - acc: 0.8404 - val_loss: 0.5022 - val_acc: 0.7911\n",
      "Epoch 17/25\n",
      "250/250 [==============================] - 366s 1s/step - loss: 0.3508 - acc: 0.8420 - val_loss: 0.4544 - val_acc: 0.8110\n",
      "Epoch 18/25\n",
      "250/250 [==============================] - 568s 2s/step - loss: 0.3260 - acc: 0.8498 - val_loss: 0.4393 - val_acc: 0.8088\n",
      "Epoch 19/25\n",
      "250/250 [==============================] - 703s 3s/step - loss: 0.3257 - acc: 0.8576 - val_loss: 0.5203 - val_acc: 0.7844\n",
      "Epoch 20/25\n",
      "250/250 [==============================] - 776s 3s/step - loss: 0.3197 - acc: 0.8606 - val_loss: 0.4476 - val_acc: 0.8181\n",
      "Epoch 21/25\n",
      "250/250 [==============================] - 821s 3s/step - loss: 0.3036 - acc: 0.8628 - val_loss: 0.4312 - val_acc: 0.8214\n",
      "Epoch 22/25\n",
      "250/250 [==============================] - 784s 3s/step - loss: 0.3002 - acc: 0.8724 - val_loss: 0.4854 - val_acc: 0.8124\n",
      "Epoch 23/25\n",
      "250/250 [==============================] - 906s 4s/step - loss: 0.2895 - acc: 0.8724 - val_loss: 0.5389 - val_acc: 0.7975\n",
      "Epoch 24/25\n",
      "250/250 [==============================] - 1001s 4s/step - loss: 0.2795 - acc: 0.8784 - val_loss: 0.4839 - val_acc: 0.8124\n",
      "Epoch 25/25\n",
      "250/250 [==============================] - 625s 3s/step - loss: 0.2635 - acc: 0.8865 - val_loss: 0.5405 - val_acc: 0.8070\n"
     ]
    },
    {
     "data": {
      "text/plain": [
       "<keras.callbacks.History at 0x11323b048>"
      ]
     },
     "execution_count": 3,
     "metadata": {},
     "output_type": "execute_result"
    }
   ],
   "source": [
    "from keras.preprocessing.image import ImageDataGenerator\n",
    "\n",
    "train_datagen = ImageDataGenerator(rescale = 1./255,\n",
    "                                   shear_range = 0.2,\n",
    "                                   zoom_range = 0.2,\n",
    "                                   horizontal_flip = True)\n",
    "\n",
    "test_datagen = ImageDataGenerator(rescale = 1./255)\n",
    "\n",
    "training_set = train_datagen.flow_from_directory('dataset/training_set',\n",
    "                                                 target_size = (64, 64),\n",
    "                                                 batch_size = 32,\n",
    "                                                 class_mode = 'binary')\n",
    "\n",
    "test_set = test_datagen.flow_from_directory('dataset/test_set',\n",
    "                                            target_size = (64, 64),\n",
    "                                            batch_size = 32,\n",
    "                                            class_mode = 'binary')\n",
    "\n",
    "classifier.fit_generator(training_set,\n",
    "                         samples_per_epoch = 8000,\n",
    "                         nb_epoch = 25,\n",
    "                         validation_data = test_set,\n",
    "                         nb_val_samples = 2000)"
   ]
  },
  {
   "cell_type": "code",
   "execution_count": null,
   "metadata": {},
   "outputs": [],
   "source": []
  }
 ],
 "metadata": {
  "kernelspec": {
   "display_name": "Python 3",
   "language": "python",
   "name": "python3"
  },
  "language_info": {
   "codemirror_mode": {
    "name": "ipython",
    "version": 3
   },
   "file_extension": ".py",
   "mimetype": "text/x-python",
   "name": "python",
   "nbconvert_exporter": "python",
   "pygments_lexer": "ipython3",
   "version": "3.6.4"
  }
 },
 "nbformat": 4,
 "nbformat_minor": 2
}
